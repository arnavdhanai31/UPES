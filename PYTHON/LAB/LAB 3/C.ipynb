{
 "cells": [
  {
   "cell_type": "markdown",
   "metadata": {},
   "source": [
    "<i><h5>C) Count occurences of substring in a string</i></h5> "
   ]
  },
  {
   "cell_type": "code",
   "execution_count": 2,
   "metadata": {},
   "outputs": [
    {
     "name": "stdout",
     "output_type": "stream",
     "text": [
      "Number of substrings: 2\n"
     ]
    }
   ],
   "source": [
    "pstr=input(\"Enter your primary string: \")\n",
    "sstr=input(\"Enter your secondary string: \")\n",
    "count = 0\n",
    "n = len(pstr)\n",
    "m = len(sstr)\n",
    "\n",
    "for i in range(n - m + 1):\n",
    "\tif pstr[i:i+m] == sstr:\n",
    "\t\tcount += 1\n",
    "\n",
    "print(\"Number of substrings:\", count)\n"
   ]
  }
 ],
 "metadata": {
  "kernelspec": {
   "display_name": "Python 3.8.10 64-bit",
   "language": "python",
   "name": "python3"
  },
  "language_info": {
   "codemirror_mode": {
    "name": "ipython",
    "version": 3
   },
   "file_extension": ".py",
   "mimetype": "text/x-python",
   "name": "python",
   "nbconvert_exporter": "python",
   "pygments_lexer": "ipython3",
   "version": "3.8.10"
  },
  "orig_nbformat": 4,
  "vscode": {
   "interpreter": {
    "hash": "b337b16e1f284c9fe7de692799556d56c1809887abe3f5a49ffeb9e7df151cfb"
   }
  }
 },
 "nbformat": 4,
 "nbformat_minor": 2
}
