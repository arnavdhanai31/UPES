{
 "cells": [
  {
   "cell_type": "code",
   "execution_count": 5,
   "metadata": {},
   "outputs": [],
   "source": [
    "class_=[0,15,30,45,60,75]\n",
    "f=[8,26,30,45,20]\n",
    "\n",
    "def Q(c,f,factor):\n",
    "    fsum=0\n",
    "    cf=f[0]\n",
    "    l=len(f)\n",
    "    for i in range(0,len(f)):\n",
    "        fsum=fsum+f[i]\n",
    "    #print(\"The sum of frequencies (N) :\",fsum)\n",
    "    cf=0\n",
    "    cf_=[f[0]]\n",
    "    th=0\n",
    "    for j in range(0,len(f)):\n",
    "        cf=int(cf+f[j])\n",
    "        for i in range(0,len(f)):\n",
    "            cf_[i]=cf_.append(cf)\n",
    "        _cf=set(cf_)  \n",
    "    li=list(_cf)\n",
    "    li.remove(None)\n",
    "    li.sort()\n",
    "    #print(li)\n",
    "    for l in range(0,len(li)):\n",
    "        th=th+li[l]\n",
    "    #print(\"The sum of cumulative frequencies (cf) :\",th)\n",
    "    q=(fsum+1)/l\n",
    "    w=q*factor\n",
    "    #print(q)\n",
    "    for u in range(0,len(li)):\n",
    "        if w<li[u]:\n",
    "            Q=li[u]\n",
    "            classi=c[u]\n",
    "            l=int(classi)\n",
    "            freq=f[u]\n",
    "            cumu=li[u-1]\n",
    "            h=class_[1]-class_[0]\n",
    "            break\n",
    "    quart=(((w-cumu)/freq)*h)+l\n",
    "    if factor==1:\n",
    "        print(\"Quartile First : %.2f\"%quart)\n",
    "    elif factor==2:\n",
    "        print(\"Quartile Second : %.2f\"%quart)\n",
    "    elif factor==3:\n",
    "        print(\"Quartile Third : %.2f\"%quart)\n",
    "    else:\n",
    "        print(\"No such Quartile found!\")\n",
    "    print(\"\\nQuartile Class: {0}-{1}\\nLower Limit of Quartile Class: {2}\\nCumulative Frequency of preceding Quartile Class: {3}\\nFrequency of Quartile Class: {4}\\nWidth of the Quartile Class: {5}\".format(classi,classi+h,l,cumu,freq,h))  "
   ]
  },
  {
   "cell_type": "code",
   "execution_count": 6,
   "metadata": {},
   "outputs": [
    {
     "name": "stdout",
     "output_type": "stream",
     "text": [
      "Quartile Third : 56.17\n",
      "\n",
      "Quartile Class: 45-60\n",
      "Lower Limit of Quartile Class: 45\n",
      "Cumulative Frequency of preceding Quartile Class: 64\n",
      "Frequency of Quartile Class: 45\n",
      "Width of the Quartile Class: 15\n"
     ]
    }
   ],
   "source": [
    "Q(class_,f,3)"
   ]
  }
 ],
 "metadata": {
  "kernelspec": {
   "display_name": "Python 3.8.10 64-bit",
   "language": "python",
   "name": "python3"
  },
  "language_info": {
   "codemirror_mode": {
    "name": "ipython",
    "version": 3
   },
   "file_extension": ".py",
   "mimetype": "text/x-python",
   "name": "python",
   "nbconvert_exporter": "python",
   "pygments_lexer": "ipython3",
   "version": "3.8.10"
  },
  "orig_nbformat": 4,
  "vscode": {
   "interpreter": {
    "hash": "b337b16e1f284c9fe7de692799556d56c1809887abe3f5a49ffeb9e7df151cfb"
   }
  }
 },
 "nbformat": 4,
 "nbformat_minor": 2
}
