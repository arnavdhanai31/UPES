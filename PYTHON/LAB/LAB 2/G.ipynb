{
 "cells": [
  {
   "cell_type": "markdown",
   "metadata": {},
   "source": [
    "<i><h4>Exchange values of 2 numbers without using a temporary variable</h4></i>"
   ]
  },
  {
   "cell_type": "code",
   "execution_count": null,
   "metadata": {},
   "outputs": [],
   "source": [
    "t=int(input(\"Enter a number: \"))\n",
    "t2=int(input(\"Enter a number: \"))\n",
    "print(\"Before swapping\\nT: \",t,\" T2: \",t2)\n",
    "t=t+t2\n",
    "t2=t-t2\n",
    "t=t-t2\n",
    "print(\"After swapping\\nT: \",t,\" T2: \",t2)"
   ]
  }
 ],
 "metadata": {
  "kernelspec": {
   "display_name": "Python 3.8.10 64-bit",
   "language": "python",
   "name": "python3"
  },
  "language_info": {
   "name": "python",
   "version": "3.8.10"
  },
  "orig_nbformat": 4,
  "vscode": {
   "interpreter": {
    "hash": "b337b16e1f284c9fe7de692799556d56c1809887abe3f5a49ffeb9e7df151cfb"
   }
  }
 },
 "nbformat": 4,
 "nbformat_minor": 2
}
