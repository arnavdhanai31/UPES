{
 "cells": [
  {
   "cell_type": "markdown",
   "metadata": {},
   "source": [
    "<h4>ESCAPE SEQUENCES</h4>"
   ]
  },
  {
   "cell_type": "code",
   "execution_count": 6,
   "metadata": {},
   "outputs": [
    {
     "name": "stdout",
     "output_type": "stream",
     "text": [
      "D\n",
      "R\n",
      "D\n",
      "OR\n",
      "LOWOR\n",
      "DLROWOLLEH\n",
      "LROWO\n",
      "H\n"
     ]
    }
   ],
   "source": [
    "stg=\"HELLOWORLD\"\n",
    "print(stg[-1])\n",
    "print(stg[-3])\n",
    "print(stg[-1:])\n",
    "print(stg[-4:-2])\n",
    "print(stg[-7:-2])\n",
    "print(stg[::-1])\n",
    "print(stg[-2:-7:-1])\n",
    "print(stg[-10])"
   ]
  },
  {
   "cell_type": "code",
   "execution_count": 16,
   "metadata": {},
   "outputs": [
    {
     "name": "stdout",
     "output_type": "stream",
     "text": [
      "The names are: DG\n",
      "The names are: DG\n",
      "The names are: GD\n",
      "The names are: hjhjkj\n",
      "2.0\n",
      "1.99\n",
      "1.988\n",
      "1.9876\n"
     ]
    }
   ],
   "source": [
    "print(\"The names are: {0}{1}\".format('D','G'))\n",
    "print(\"The names are: {t}{j}\".format(t='D',j='G'))\n",
    "print(\"The names are: {1}{0}\".format('D','G'))\n",
    "S=\"hj\"\n",
    "S2=\"hjkj\"\n",
    "print(f\"The names are: {S}{S2}\")\n",
    "re=1.9876\n",
    "print(f\"%.1f\"%re)\n",
    "print(f\"%.2f\"%re)\n",
    "print(f\"%.3f\"%re)\n",
    "print(f\"%.4f\"%re)"
   ]
  },
  {
   "cell_type": "code",
   "execution_count": 26,
   "metadata": {},
   "outputs": [
    {
     "ename": "IndexError",
     "evalue": "string index out of range",
     "output_type": "error",
     "traceback": [
      "\u001b[1;31m---------------------------------------------------------------------------\u001b[0m",
      "\u001b[1;31mIndexError\u001b[0m                                Traceback (most recent call last)",
      "Cell \u001b[1;32mIn[26], line 3\u001b[0m\n\u001b[0;32m      1\u001b[0m stgt\u001b[38;5;241m=\u001b[39m\u001b[38;5;124m\"\u001b[39m\u001b[38;5;124mghgftygv hggtj utgjujugtg\u001b[39m\u001b[38;5;124m\"\u001b[39m\n\u001b[0;32m      2\u001b[0m leng,count,i\u001b[38;5;241m=\u001b[39m\u001b[38;5;241m0\u001b[39m,\u001b[38;5;241m0\u001b[39m,\u001b[38;5;241m0\u001b[39m\n\u001b[1;32m----> 3\u001b[0m \u001b[38;5;28;01mwhile\u001b[39;00m (\u001b[43mstgt\u001b[49m\u001b[43m[\u001b[49m\u001b[43mi\u001b[49m\u001b[43m]\u001b[49m\u001b[38;5;241m!=\u001b[39m\u001b[38;5;124m'\u001b[39m\u001b[38;5;124m'\u001b[39m):\n\u001b[0;32m      4\u001b[0m     i\u001b[38;5;241m+\u001b[39m\u001b[38;5;241m=\u001b[39m\u001b[38;5;241m1\u001b[39m\n\u001b[0;32m      5\u001b[0m     leng\u001b[38;5;241m+\u001b[39m\u001b[38;5;241m=\u001b[39m\u001b[38;5;241m1\u001b[39m\n",
      "\u001b[1;31mIndexError\u001b[0m: string index out of range"
     ]
    }
   ],
   "source": [
    "stgt=\"ghgftygv hggtj utgjujugtg\"\n",
    "leng,count,i=0,0,0\n",
    "while (stgt[i]!=''):\n",
    "    i+=1\n",
    "    leng+=1\n",
    "    #print(leng)\n",
    "    "
   ]
  }
 ],
 "metadata": {
  "kernelspec": {
   "display_name": "Python 3.8.10 64-bit",
   "language": "python",
   "name": "python3"
  },
  "language_info": {
   "codemirror_mode": {
    "name": "ipython",
    "version": 3
   },
   "file_extension": ".py",
   "mimetype": "text/x-python",
   "name": "python",
   "nbconvert_exporter": "python",
   "pygments_lexer": "ipython3",
   "version": "3.8.10"
  },
  "orig_nbformat": 4,
  "vscode": {
   "interpreter": {
    "hash": "b337b16e1f284c9fe7de692799556d56c1809887abe3f5a49ffeb9e7df151cfb"
   }
  }
 },
 "nbformat": 4,
 "nbformat_minor": 2
}
