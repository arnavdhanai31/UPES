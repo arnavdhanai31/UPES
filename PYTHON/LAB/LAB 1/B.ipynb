{
 "cells": [
  {
   "cell_type": "markdown",
   "metadata": {},
   "source": [
    "<h4><i>B. Use expressions and variables to perform operations:<br>\n",
    "Use IF and INPUT, then print different output for add, sub, mul, div, mod.</i></h4>"
   ]
  },
  {
   "cell_type": "code",
   "execution_count": null,
   "metadata": {},
   "outputs": [],
   "source": [
    "r=int(input(\"Enter any number:\"))\n",
    "y=int(input(\"Enter any number:\"))\n",
    "t=input(\"Enter any symbol from the following (+,-,*,/,%):\")\n",
    "if t=='+': \n",
    "    print(r+y)\n",
    "elif t=='-':\n",
    "    print(r-y)\n",
    "elif t=='*':\n",
    "    print(r*y)\n",
    "elif t=='/':\n",
    "    print(r/y)\n",
    "elif t=='%':\n",
    "    print(r%y)\n",
    "else: print(\"No such operation allowed!\")"
   ]
  },
  {
   "cell_type": "code",
   "execution_count": null,
   "metadata": {},
   "outputs": [],
   "source": [
    "r=int(input(\"Enter any number:\"))\n",
    "y=int(input(\"Enter any number:\"))\n",
    "t=input(\"Enter any symbol from the following (+,-,*,/,%):\")\n",
    "print(r+y) if t=='+' else print(r-y) if t=='-' else print(r*y) if t=='*' else print(r/y) if t==\"/\" else print(r%y) if t==\"%\" else print(\"Not allowed!\")"
   ]
  }
 ],
 "metadata": {
  "kernelspec": {
   "display_name": "Python 3.8.10 64-bit",
   "language": "python",
   "name": "python3"
  },
  "language_info": {
   "name": "python",
   "version": "3.8.10"
  },
  "orig_nbformat": 4,
  "vscode": {
   "interpreter": {
    "hash": "b337b16e1f284c9fe7de692799556d56c1809887abe3f5a49ffeb9e7df151cfb"
   }
  }
 },
 "nbformat": 4,
 "nbformat_minor": 2
}
