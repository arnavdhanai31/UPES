{
 "cells": [
  {
   "cell_type": "markdown",
   "metadata": {},
   "source": [
    "<h4><i>4. Find common list elements</i></h4>"
   ]
  },
  {
   "cell_type": "code",
   "execution_count": 5,
   "metadata": {},
   "outputs": [
    {
     "name": "stdout",
     "output_type": "stream",
     "text": [
      "The common elements are:  [4, 5, 6, 7, 9]\n"
     ]
    }
   ],
   "source": [
    "myList=[4,5,6,7,7,88,9]\n",
    "myList2=[4,5,6,7,87,8,9]\n",
    "commonList=[]\n",
    "length= len(myList) if len(myList)>len(myList2) else len(myList2)\n",
    "for i in range(length):\n",
    "    if myList[i]==myList2[i]:\n",
    "        commonList.append(myList[i])\n",
    "print(\"The common elements are: \",commonList)"
   ]
  }
 ],
 "metadata": {
  "kernelspec": {
   "display_name": "Python 3.8.10 64-bit",
   "language": "python",
   "name": "python3"
  },
  "language_info": {
   "codemirror_mode": {
    "name": "ipython",
    "version": 3
   },
   "file_extension": ".py",
   "mimetype": "text/x-python",
   "name": "python",
   "nbconvert_exporter": "python",
   "pygments_lexer": "ipython3",
   "version": "3.8.10"
  },
  "orig_nbformat": 4,
  "vscode": {
   "interpreter": {
    "hash": "b337b16e1f284c9fe7de692799556d56c1809887abe3f5a49ffeb9e7df151cfb"
   }
  }
 },
 "nbformat": 4,
 "nbformat_minor": 2
}
