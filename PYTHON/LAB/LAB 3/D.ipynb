{
 "cells": [
  {
   "cell_type": "markdown",
   "metadata": {},
   "source": [
    "<i><h5>D) Print name as First. Middle. Last<br>\n",
    "<b>Mohandas KaramChand Gandhi AS M. K.  Gandhi</b></h5></i>"
   ]
  },
  {
   "cell_type": "code",
   "execution_count": 15,
   "metadata": {},
   "outputs": [
    {
     "name": "stdout",
     "output_type": "stream",
     "text": [
      "You entered the name: Anant Kaur Maheshwar Dungal\n",
      "You formatted name: A. K. M. Dungal\n",
      "You have 2 middle names!\n"
     ]
    }
   ],
   "source": [
    "name=input(\"Enter your full name: \")\n",
    "print(f\"You entered the name: {name}\")\n",
    "print(\"You formatted name:\",end=\" \")\n",
    "#converting name string into list elements \n",
    "nameList=list(name.split(\" \"))\n",
    "tempList=[]\n",
    "#for loop for n-1 elements of name string (as the last name is to be printed whole)\n",
    "for num in range(len(nameList)-1):\n",
    "#converting nth element of nameList into char list and saving in tempList\n",
    "    tempList=list(nameList[num])\n",
    "    #capitalizing the first element of tempList\n",
    "    for numm in range(1):\n",
    "        print(f\"{tempList[0].capitalize()}\", end=\". \")\n",
    "#printing the last name\n",
    "print(f\"{nameList[len(nameList)-1].capitalize()}\")\n",
    "#calculating the number of middle names"
   ]
  },
  {
   "cell_type": "code",
   "execution_count": null,
   "metadata": {},
   "outputs": [
    {
     "name": "stdout",
     "output_type": "stream",
     "text": [
      "S. D. Fghjk\n"
     ]
    }
   ],
   "source": [
    "askString=input(\"Do you have a middle name?\")\n",
    "if (askString==\"YES\" or askString==\"yes\" or askString==\"Yes\" or askString==\"yEs\" or askString==\"yeS\" or askString==\"YEs\" or askString==\"yES\" or askString==\"YeS\" or askString==\"y\" or askString==\"Y\" or askString==\"YS\" or askString==\"ys\"):\n",
    "    firstName,middleName,lastName=input(\"Enter Your Full Name:\").split(\" \")\n",
    "    print(f\"{firstName[0].capitalize()}. {middleName[0].capitalize()}. {lastName.capitalize()}\")\n",
    "elif (askString==\"NO\" or askString==\"no\" or askString==\"No\" or askString==\"nO\" or askString==\"n\" or askString==\"N\"):\n",
    "    firstName,lastName=input(\"Enter Your Full Name:\").split(\" \")\n",
    "    print(f\"{firstName[0].capitalize()},. ,{lastName.capitalize()}\")\n",
    "else:\n",
    "    print(\"Invalid Input!\")"
   ]
  }
 ],
 "metadata": {
  "kernelspec": {
   "display_name": "Python 3.8.10 64-bit",
   "language": "python",
   "name": "python3"
  },
  "language_info": {
   "codemirror_mode": {
    "name": "ipython",
    "version": 3
   },
   "file_extension": ".py",
   "mimetype": "text/x-python",
   "name": "python",
   "nbconvert_exporter": "python",
   "pygments_lexer": "ipython3",
   "version": "3.8.10"
  },
  "orig_nbformat": 4,
  "vscode": {
   "interpreter": {
    "hash": "b337b16e1f284c9fe7de692799556d56c1809887abe3f5a49ffeb9e7df151cfb"
   }
  }
 },
 "nbformat": 4,
 "nbformat_minor": 2
}
