{
 "cells": [
  {
   "cell_type": "markdown",
   "metadata": {},
   "source": [
    "<h4><i>2. Tuple cloning</i></h4>"
   ]
  },
  {
   "cell_type": "code",
   "execution_count": 2,
   "metadata": {},
   "outputs": [
    {
     "name": "stdout",
     "output_type": "stream",
     "text": [
      "Original Tuple:  [3, 4, 5, 6, 7]\n",
      "Cloned Tuple:  [3, 4, 5, 6, 7]\n"
     ]
    }
   ],
   "source": [
    "myTuple=[3,4,5,6,7]\n",
    "myTuple_copy=[]\n",
    "for i in range(len(myTuple)):\n",
    "    myTuple_copy.append(myTuple[i])\n",
    "print(\"Original Tuple: \",myTuple)\n",
    "print(\"Cloned Tuple: \",myTuple_copy)"
   ]
  },
  {
   "cell_type": "code",
   "execution_count": 3,
   "metadata": {},
   "outputs": [
    {
     "name": "stdout",
     "output_type": "stream",
     "text": [
      "Original Tuple:  [3, 4, 5, 6, 7]\n",
      "Cloned Tuple:  [3, 4, 5, 6, 7]\n"
     ]
    }
   ],
   "source": [
    "#through function\n",
    "myTuple=[3,4,5,6,7]\n",
    "myTuple_copy=myTuple.copy()\n",
    "print(\"Original Tuple: \",myTuple)\n",
    "print(\"Cloned Tuple: \",myTuple_copy)"
   ]
  }
 ],
 "metadata": {
  "kernelspec": {
   "display_name": "Python 3.8.10 64-bit",
   "language": "python",
   "name": "python3"
  },
  "language_info": {
   "codemirror_mode": {
    "name": "ipython",
    "version": 3
   },
   "file_extension": ".py",
   "mimetype": "text/x-python",
   "name": "python",
   "nbconvert_exporter": "python",
   "pygments_lexer": "ipython3",
   "version": "3.8.10"
  },
  "orig_nbformat": 4,
  "vscode": {
   "interpreter": {
    "hash": "b337b16e1f284c9fe7de692799556d56c1809887abe3f5a49ffeb9e7df151cfb"
   }
  }
 },
 "nbformat": 4,
 "nbformat_minor": 2
}
