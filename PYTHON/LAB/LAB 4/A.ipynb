{
 "cells": [
  {
   "cell_type": "markdown",
   "metadata": {},
   "source": [
    "<h4><i>1. Create a list through different ways. Display the list elements (directly, through loop and slicing )</i></h4>"
   ]
  },
  {
   "cell_type": "code",
   "execution_count": 18,
   "metadata": {},
   "outputs": [
    {
     "name": "stdout",
     "output_type": "stream",
     "text": [
      "[2, 4, 5, 6, 7, 'Owl']\n"
     ]
    }
   ],
   "source": [
    "#directly\n",
    "myList=[2,4,5,6,7,'Owl']\n",
    "print(myList)"
   ]
  },
  {
   "cell_type": "code",
   "execution_count": 19,
   "metadata": {},
   "outputs": [
    {
     "name": "stdout",
     "output_type": "stream",
     "text": [
      "1 2 3 4 5 6 7 8 9 10 "
     ]
    }
   ],
   "source": [
    "#through loop\n",
    "myList2=[i for i in range(1,11)]\n",
    "for i in range(len(myList2)):\n",
    "    print(myList2[i], end=\" \")"
   ]
  },
  {
   "cell_type": "code",
   "execution_count": 20,
   "metadata": {},
   "outputs": [
    {
     "name": "stdout",
     "output_type": "stream",
     "text": [
      "Printing mylist elements from 3 to 4:  [5, 6, 7, 'Owl']\n",
      "Printing mylist elements from -5 to -3:  [4, 5, 6]\n"
     ]
    }
   ],
   "source": [
    "#through slicing\n",
    "print(\"Printing mylist elements from 3 to 4: \",myList[2:6])\n",
    "#Negative indexing\n",
    "print(\"Printing mylist elements from -5 to -3: \",myList[-5:-2])"
   ]
  }
 ],
 "metadata": {
  "kernelspec": {
   "display_name": "Python 3.8.10 64-bit",
   "language": "python",
   "name": "python3"
  },
  "language_info": {
   "codemirror_mode": {
    "name": "ipython",
    "version": 3
   },
   "file_extension": ".py",
   "mimetype": "text/x-python",
   "name": "python",
   "nbconvert_exporter": "python",
   "pygments_lexer": "ipython3",
   "version": "3.8.10"
  },
  "orig_nbformat": 4,
  "vscode": {
   "interpreter": {
    "hash": "b337b16e1f284c9fe7de692799556d56c1809887abe3f5a49ffeb9e7df151cfb"
   }
  }
 },
 "nbformat": 4,
 "nbformat_minor": 2
}
