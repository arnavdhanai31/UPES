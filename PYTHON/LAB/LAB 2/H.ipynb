{
 "cells": [
  {
   "cell_type": "markdown",
   "metadata": {},
   "source": [
    "<i><h4>H. Operations on Strings</h4></i>"
   ]
  },
  {
   "cell_type": "code",
   "execution_count": null,
   "metadata": {},
   "outputs": [],
   "source": [
    "stg=\"      kjlhgfvmsfghjutyrewetryukiljhgfdsfvmvdsfghyersdfgh    \"\n",
    "print('Removing Leading Whitespaces: ',stg.lstrip())\n",
    "print(len(stg.lstrip()))\n",
    "print('Removing Tailing Whitespaces: ',stg.rstrip())\n",
    "print(len(stg.rstrip()))\n",
    "print(\"Slicing: \",stg[2:6])\n",
    "print(\"Slicing with interval: \",stg[2:6:3])\n",
    "print(\"Reversed: \",stg[::-1])\n",
    "print(\"Indexing: \",stg[6])\n",
    "print(\"Finding a substring in the original string ('fvms' in {})\".format(stg))\n",
    "print(True) if 'fvms' in stg else print(False)\n",
    "count=0\n",
    "for i in range(0,len(stg)):\n",
    "    if stg[i]=='r':\n",
    "        count+=1\n",
    "print(\"Occurence of 'r' in {0} is {1}\".format(stg,count))"
   ]
  }
 ],
 "metadata": {
  "kernelspec": {
   "display_name": "Python 3.8.10 64-bit",
   "language": "python",
   "name": "python3"
  },
  "language_info": {
   "name": "python",
   "version": "3.8.10"
  },
  "orig_nbformat": 4,
  "vscode": {
   "interpreter": {
    "hash": "b337b16e1f284c9fe7de692799556d56c1809887abe3f5a49ffeb9e7df151cfb"
   }
  }
 },
 "nbformat": 4,
 "nbformat_minor": 2
}
