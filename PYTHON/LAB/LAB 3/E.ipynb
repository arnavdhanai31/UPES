{
 "cells": [
  {
   "cell_type": "markdown",
   "metadata": {},
   "source": [
    "<i><h5>E) Given a string containing both upper & lower case alphabets. Write a python program to count instances of each alphabet</h4></i>"
   ]
  },
  {
   "cell_type": "code",
   "execution_count": null,
   "metadata": {},
   "outputs": [],
   "source": [
    "string=input(\"Enter a string: \")\n",
    "#converting to lower case as UPPER and LOWER case have different ASCII values hence incomparable\n",
    "stringLower=string.lower()\n",
    "print(\"Your string is: \",string)\n",
    "#creating a set to discard duplicates\n",
    "#typecasting set into list as set is unordered and unsubscriptable\n",
    "stringListUnique=list(set(string.lower()))\n",
    "#for the length of 'stringListUnique'\n",
    "for i in range(len(stringListUnique)):\n",
    "#count occurences of each element from stringListUnique in stringLower\n",
    "    print(stringLower.count(stringListUnique[i]),stringListUnique[i].upper())"
   ]
  }
 ],
 "metadata": {
  "kernelspec": {
   "display_name": "Python 3.8.10 64-bit",
   "language": "python",
   "name": "python3"
  },
  "language_info": {
   "name": "python",
   "version": "3.8.10"
  },
  "orig_nbformat": 4,
  "vscode": {
   "interpreter": {
    "hash": "b337b16e1f284c9fe7de692799556d56c1809887abe3f5a49ffeb9e7df151cfb"
   }
  }
 },
 "nbformat": 4,
 "nbformat_minor": 2
}
