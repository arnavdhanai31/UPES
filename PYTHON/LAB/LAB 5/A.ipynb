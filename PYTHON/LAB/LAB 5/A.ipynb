{
 "cells": [
  {
   "cell_type": "markdown",
   "metadata": {},
   "source": [
    "<h4><i>Generate square of all integers from 1 to 50</h4></i>"
   ]
  },
  {
   "cell_type": "code",
   "execution_count": 1,
   "metadata": {},
   "outputs": [
    {
     "name": "stdout",
     "output_type": "stream",
     "text": [
      "Square of 2: 4\n",
      "Square of 3: 9\n",
      "Square of 4: 16\n",
      "Square of 5: 25\n",
      "Square of 6: 36\n",
      "Square of 7: 49\n",
      "Square of 8: 64\n",
      "Square of 9: 81\n",
      "Square of 10: 100\n",
      "Square of 11: 121\n",
      "Square of 12: 144\n",
      "Square of 13: 169\n",
      "Square of 14: 196\n",
      "Square of 15: 225\n",
      "Square of 16: 256\n",
      "Square of 17: 289\n",
      "Square of 18: 324\n",
      "Square of 19: 361\n",
      "Square of 20: 400\n",
      "Square of 21: 441\n",
      "Square of 22: 484\n",
      "Square of 23: 529\n",
      "Square of 24: 576\n",
      "Square of 25: 625\n",
      "Square of 26: 676\n",
      "Square of 27: 729\n",
      "Square of 28: 784\n",
      "Square of 29: 841\n",
      "Square of 30: 900\n",
      "Square of 31: 961\n",
      "Square of 32: 1024\n",
      "Square of 33: 1089\n",
      "Square of 34: 1156\n",
      "Square of 35: 1225\n",
      "Square of 36: 1296\n",
      "Square of 37: 1369\n",
      "Square of 38: 1444\n",
      "Square of 39: 1521\n",
      "Square of 40: 1600\n",
      "Square of 41: 1681\n",
      "Square of 42: 1764\n",
      "Square of 43: 1849\n",
      "Square of 44: 1936\n",
      "Square of 45: 2025\n",
      "Square of 46: 2116\n",
      "Square of 47: 2209\n",
      "Square of 48: 2304\n",
      "Square of 49: 2401\n",
      "Square of 50: 2500\n",
      "Square of 51: 2601\n",
      "Square of 52: 2704\n",
      "Square of 53: 2809\n",
      "Square of 54: 2916\n",
      "Square of 55: 3025\n",
      "Square of 56: 3136\n",
      "Square of 57: 3249\n",
      "Square of 58: 3364\n",
      "Square of 59: 3481\n",
      "Square of 60: 3600\n",
      "Square of 61: 3721\n",
      "Square of 62: 3844\n",
      "Square of 63: 3969\n",
      "Square of 64: 4096\n",
      "Square of 65: 4225\n",
      "Square of 66: 4356\n",
      "Square of 67: 4489\n"
     ]
    }
   ],
   "source": [
    "limit = int(input(\"Enter the limit for generating squares:\"))\n",
    "for i in range(2,limit+1):\n",
    "    print(f\"Square of {i}: {i*i}\")"
   ]
  }
 ],
 "metadata": {
  "kernelspec": {
   "display_name": "Python 3.8.10 64-bit",
   "language": "python",
   "name": "python3"
  },
  "language_info": {
   "codemirror_mode": {
    "name": "ipython",
    "version": 3
   },
   "file_extension": ".py",
   "mimetype": "text/x-python",
   "name": "python",
   "nbconvert_exporter": "python",
   "pygments_lexer": "ipython3",
   "version": "3.11.5"
  },
  "orig_nbformat": 4,
  "vscode": {
   "interpreter": {
    "hash": "b337b16e1f284c9fe7de692799556d56c1809887abe3f5a49ffeb9e7df151cfb"
   }
  }
 },
 "nbformat": 4,
 "nbformat_minor": 2
}
