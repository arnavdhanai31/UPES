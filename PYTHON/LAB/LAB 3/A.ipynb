{
 "cells": [
  {
   "cell_type": "markdown",
   "metadata": {},
   "source": [
    "<i><h5>A) Number from user and print number if even/odd/prime/non-prime</h5></i>"
   ]
  },
  {
   "cell_type": "code",
   "execution_count": null,
   "metadata": {},
   "outputs": [
    {
     "name": "stdout",
     "output_type": "stream",
     "text": [
      "Your number 45 is: Odd & Non-Prime!\n"
     ]
    }
   ],
   "source": [
    "num=int(input(\"Enter your number:\"))\n",
    "factors=0\n",
    "#check if the number has more than one factor\n",
    "for i in range(2,num):\n",
    "    if (num%i==0):\n",
    "        factors+=1\n",
    "    else:\n",
    "        pass\n",
    "#if factors>1; the number of factors for the number exceed 1, hence, it's not a prime number. \n",
    "if(factors>1):\n",
    "    checkPrime=\"Non-Prime!\"\n",
    "else:\n",
    "    checkPrime=\"Prime!\"\n",
    "#if the number is even or odd\n",
    "if (num%2==0):\n",
    "    checkEven=\"Even\"\n",
    "elif (num%2!=0):\n",
    "    checkEven=\"Odd\"\n",
    "#print the result\n",
    "print(f\"Your number {num} is: {checkEven} & {checkPrime}\")"
   ]
  }
 ],
 "metadata": {
  "kernelspec": {
   "display_name": "Python 3.8.10 64-bit",
   "language": "python",
   "name": "python3"
  },
  "language_info": {
   "name": "python",
   "version": "3.8.10"
  },
  "orig_nbformat": 4,
  "vscode": {
   "interpreter": {
    "hash": "b337b16e1f284c9fe7de692799556d56c1809887abe3f5a49ffeb9e7df151cfb"
   }
  }
 },
 "nbformat": 4,
 "nbformat_minor": 2
}
