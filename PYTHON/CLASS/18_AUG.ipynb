{
 "cells": [
  {
   "cell_type": "code",
   "execution_count": 4,
   "metadata": {},
   "outputs": [
    {
     "name": "stdout",
     "output_type": "stream",
     "text": [
      "3\n",
      "<class 'int'>\n",
      "<class 'str'>\n"
     ]
    }
   ],
   "source": [
    "x,y=3,'j' #declaring a variable\n",
    "print(x)\n",
    "print(type(x))\n",
    "print(type(y))"
   ]
  },
  {
   "cell_type": "code",
   "execution_count": 7,
   "metadata": {},
   "outputs": [
    {
     "name": "stdout",
     "output_type": "stream",
     "text": [
      "True\n",
      "True\n",
      "True\n",
      "False\n",
      "False\n"
     ]
    }
   ],
   "source": [
    "print(bool(\"Hello\"))\n",
    "print(bool(1))\n",
    "print(10>9)\n",
    "print(10==9)\n",
    "print(10<9)"
   ]
  },
  {
   "cell_type": "code",
   "execution_count": 10,
   "metadata": {},
   "outputs": [
    {
     "name": "stdout",
     "output_type": "stream",
     "text": [
      "25\n",
      "15\n",
      "100\n",
      "4.0\n",
      "0\n",
      "4\n",
      "3200000\n"
     ]
    }
   ],
   "source": [
    "#Arithmetic Operators\n",
    "r=20\n",
    "t=5\n",
    "print(r+t)\n",
    "print(r-t)\n",
    "print(r*t)\n",
    "print(r/t)\n",
    "print(r%t)\n",
    "print(r//t)\n",
    "print(r**t)"
   ]
  },
  {
   "cell_type": "code",
   "execution_count": 15,
   "metadata": {},
   "outputs": [
    {
     "name": "stdout",
     "output_type": "stream",
     "text": [
      "30\n",
      "25\n",
      "125\n",
      "30517578125\n",
      "6103515625\n",
      "0\n",
      "0.0\n"
     ]
    }
   ],
   "source": [
    "#Assignment Operators\n",
    "r+=t\n",
    "print(r)\n",
    "r-=t\n",
    "print(r)\n",
    "r*=t\n",
    "print(r)\n",
    "r**=t\n",
    "print(r)\n",
    "r//=t\n",
    "print(r)\n",
    "r%=t\n",
    "print(r)\n",
    "r/=t\n",
    "print(r)"
   ]
  },
  {
   "cell_type": "code",
   "execution_count": 16,
   "metadata": {},
   "outputs": [
    {
     "name": "stdout",
     "output_type": "stream",
     "text": [
      "False\n",
      "True\n",
      "False\n",
      "True\n",
      "True\n",
      "False\n",
      "0.0\n"
     ]
    }
   ],
   "source": [
    "#Relational Operators\n",
    "print(r==t)\n",
    "print(r!=t)\n",
    "print(r>t)\n",
    "print(r<t)\n",
    "print(r<=t)\n",
    "print(r>=t)\n",
    "print(r**t)"
   ]
  },
  {
   "cell_type": "code",
   "execution_count": 19,
   "metadata": {},
   "outputs": [
    {
     "name": "stdout",
     "output_type": "stream",
     "text": [
      "1\n",
      "0\n",
      "False\n"
     ]
    }
   ],
   "source": [
    "#Logical Operators\n",
    "OR=0 or 1\n",
    "AND=0 and 1\n",
    "print(OR)\n",
    "print(AND)\n",
    "print(not 1)"
   ]
  },
  {
   "cell_type": "code",
   "execution_count": 30,
   "metadata": {},
   "outputs": [
    {
     "name": "stdout",
     "output_type": "stream",
     "text": [
      "0\n",
      "1\n",
      "1\n",
      "-2\n",
      "16\n",
      "4\n"
     ]
    }
   ],
   "source": [
    "#Bitwise Operators\n",
    "print(0&1)\n",
    "print(0|1)\n",
    "print(0^1)\n",
    "print(~1)\n",
    "print(8<<1)\n",
    "print(8>>1)"
   ]
  },
  {
   "cell_type": "code",
   "execution_count": 28,
   "metadata": {},
   "outputs": [
    {
     "name": "stdout",
     "output_type": "stream",
     "text": [
      "True\n",
      "True\n"
     ]
    }
   ],
   "source": [
    "#Membership Operators\n",
    "strg=\"UPES\"\n",
    "if \"U\" in strg:\n",
    "    print(True)\n",
    "\n",
    "if 'u' not in strg:\n",
    "    print(True)"
   ]
  }
 ],
 "metadata": {
  "kernelspec": {
   "display_name": "Python 3.8.10 64-bit",
   "language": "python",
   "name": "python3"
  },
  "language_info": {
   "codemirror_mode": {
    "name": "ipython",
    "version": 3
   },
   "file_extension": ".py",
   "mimetype": "text/x-python",
   "name": "python",
   "nbconvert_exporter": "python",
   "pygments_lexer": "ipython3",
   "version": "3.8.10"
  },
  "orig_nbformat": 4,
  "vscode": {
   "interpreter": {
    "hash": "b337b16e1f284c9fe7de692799556d56c1809887abe3f5a49ffeb9e7df151cfb"
   }
  }
 },
 "nbformat": 4,
 "nbformat_minor": 2
}
