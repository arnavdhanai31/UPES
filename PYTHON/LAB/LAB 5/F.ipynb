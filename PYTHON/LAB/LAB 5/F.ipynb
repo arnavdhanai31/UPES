{
 "cells": [
  {
   "cell_type": "code",
   "execution_count": 12,
   "metadata": {},
   "outputs": [
    {
     "name": "stdout",
     "output_type": "stream",
     "text": [
      "Armstrong Number!\n"
     ]
    }
   ],
   "source": [
    "x = int(input(\"Enter your number:\"))\n",
    "num = x\n",
    "sum = 0\n",
    "count = 0\n",
    "listL = list()\n",
    "while (x != 0):\n",
    "        count = count + 1\n",
    "        x = x // 10\n",
    "temp = num\n",
    "while (temp != 0):\n",
    "        r = temp % 10\n",
    "        sum = sum + r**count\n",
    "        temp = temp // 10\n",
    "if (num==sum):\n",
    "    print(\"Armstrong Number!\")\n",
    "else:\n",
    "    print(\"Not!\")"
   ]
  },
  {
   "cell_type": "code",
   "execution_count": null,
   "metadata": {},
   "outputs": [],
   "source": []
  }
 ],
 "metadata": {
  "kernelspec": {
   "display_name": "Python 3.8.10 64-bit",
   "language": "python",
   "name": "python3"
  },
  "language_info": {
   "codemirror_mode": {
    "name": "ipython",
    "version": 3
   },
   "file_extension": ".py",
   "mimetype": "text/x-python",
   "name": "python",
   "nbconvert_exporter": "python",
   "pygments_lexer": "ipython3",
   "version": "3.8.10"
  },
  "orig_nbformat": 4,
  "vscode": {
   "interpreter": {
    "hash": "b337b16e1f284c9fe7de692799556d56c1809887abe3f5a49ffeb9e7df151cfb"
   }
  }
 },
 "nbformat": 4,
 "nbformat_minor": 2
}
