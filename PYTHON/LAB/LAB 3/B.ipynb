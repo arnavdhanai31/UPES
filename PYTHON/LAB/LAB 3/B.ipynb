{
 "cells": [
  {
   "cell_type": "markdown",
   "metadata": {},
   "source": [
    "<h5><i>B) Get a string from the user and print each character in forward as well as reverse order</h5><i>"
   ]
  },
  {
   "cell_type": "code",
   "execution_count": null,
   "metadata": {},
   "outputs": [
    {
     "name": "stdout",
     "output_type": "stream",
     "text": [
      "Forward Order:\n",
      "s t r u c k \n",
      "Reverse Order:\n",
      "k c u r t s "
     ]
    }
   ],
   "source": [
    "string=input(\"Enter a string: \")\n",
    "print(\"Forward Order:\")\n",
    "#printing with positive indexing\n",
    "for y in range(len(string)):\n",
    "    print(string[y],end=\" \")\n",
    "#printing with negative indexing\n",
    "print(\"\\nReverse Order:\")\n",
    "for y in range(1,len(string)+1):\n",
    "    print(string[-y],end=\" \")"
   ]
  }
 ],
 "metadata": {
  "kernelspec": {
   "display_name": "Python 3.8.10 64-bit",
   "language": "python",
   "name": "python3"
  },
  "language_info": {
   "name": "python",
   "version": "3.8.10"
  },
  "orig_nbformat": 4,
  "vscode": {
   "interpreter": {
    "hash": "b337b16e1f284c9fe7de692799556d56c1809887abe3f5a49ffeb9e7df151cfb"
   }
  }
 },
 "nbformat": 4,
 "nbformat_minor": 2
}
