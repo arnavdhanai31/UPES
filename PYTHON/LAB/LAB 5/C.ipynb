{
 "cells": [
  {
   "cell_type": "markdown",
   "metadata": {},
   "source": [
    "<h4><i>Print a string in reverse</i></h4>"
   ]
  },
  {
   "cell_type": "code",
   "execution_count": 7,
   "metadata": {},
   "outputs": [
    {
     "name": "stdout",
     "output_type": "stream",
     "text": [
      "Your string is 'selet'\n",
      "Reversed string is: 'teles'"
     ]
    }
   ],
   "source": [
    "input_str = input(\"Enter a string:\")\n",
    "print(f\"Your string is '{input_str}'\")\n",
    "count = 1\n",
    "for i in input_str:\n",
    "    count+=1\n",
    "print(f\"Reversed string is: '\", end=\"\")\n",
    "for i in range(1,count):\n",
    "    print(input_str[-i], end=\"\")\n",
    "print(\"'\", end=\"\")"
   ]
  }
 ],
 "metadata": {
  "kernelspec": {
   "display_name": "Python 3.8.10 64-bit",
   "language": "python",
   "name": "python3"
  },
  "language_info": {
   "codemirror_mode": {
    "name": "ipython",
    "version": 3
   },
   "file_extension": ".py",
   "mimetype": "text/x-python",
   "name": "python",
   "nbconvert_exporter": "python",
   "pygments_lexer": "ipython3",
   "version": "3.8.10"
  },
  "orig_nbformat": 4,
  "vscode": {
   "interpreter": {
    "hash": "b337b16e1f284c9fe7de692799556d56c1809887abe3f5a49ffeb9e7df151cfb"
   }
  }
 },
 "nbformat": 4,
 "nbformat_minor": 2
}
