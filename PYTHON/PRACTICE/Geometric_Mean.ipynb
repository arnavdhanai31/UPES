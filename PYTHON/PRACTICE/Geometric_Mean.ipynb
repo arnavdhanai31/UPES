{
 "cells": [
  {
   "cell_type": "code",
   "execution_count": 45,
   "metadata": {},
   "outputs": [],
   "source": [
    "import math\n",
    "mydata={30:6,31:7,32:8,33:12,34:13,35:15,36:14,37:10,38:8}\n",
    "def GM(d):\n",
    "    log_holder, fi_sum=0,0\n",
    "    keys=list(d.keys())\n",
    "    values=list(d.values())\n",
    "    for i in range(0,len(d.keys())):\n",
    "        hold=math.log(keys[i])*values[i]\n",
    "        log_holder=log_holder+hold\n",
    "    #print(\"The value of logxi is : %.2f\"%log_holder)\n",
    "    for j in range(0,len(d.keys())):\n",
    "        fi_sum=fi_sum+values[j]\n",
    "    #print(\"The sum of fi is :\",fi_sum)\n",
    "    gm=math.exp(log_holder/fi_sum)\n",
    "    print(\"Geometric Mean is : %.2f\"%gm)"
   ]
  },
  {
   "cell_type": "code",
   "execution_count": 46,
   "metadata": {},
   "outputs": [
    {
     "name": "stdout",
     "output_type": "stream",
     "text": [
      "Geometric Mean is : 34.27\n"
     ]
    }
   ],
   "source": [
    "GM(mydata)"
   ]
  }
 ],
 "metadata": {
  "kernelspec": {
   "display_name": "Python 3.8.10 64-bit",
   "language": "python",
   "name": "python3"
  },
  "language_info": {
   "codemirror_mode": {
    "name": "ipython",
    "version": 3
   },
   "file_extension": ".py",
   "mimetype": "text/x-python",
   "name": "python",
   "nbconvert_exporter": "python",
   "pygments_lexer": "ipython3",
   "version": "3.8.10"
  },
  "orig_nbformat": 4,
  "vscode": {
   "interpreter": {
    "hash": "b337b16e1f284c9fe7de692799556d56c1809887abe3f5a49ffeb9e7df151cfb"
   }
  }
 },
 "nbformat": 4,
 "nbformat_minor": 2
}
